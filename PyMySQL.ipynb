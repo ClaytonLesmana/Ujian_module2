{
 "metadata": {
  "language_info": {
   "codemirror_mode": {
    "name": "ipython",
    "version": 3
   },
   "file_extension": ".py",
   "mimetype": "text/x-python",
   "name": "python",
   "nbconvert_exporter": "python",
   "pygments_lexer": "ipython3",
   "version": "3.9.0-final"
  },
  "orig_nbformat": 2,
  "kernelspec": {
   "name": "python3",
   "display_name": "Python 3.9.0 64-bit",
   "metadata": {
    "interpreter": {
     "hash": "aee8b7b246df8f9039afb4144a1f6fd8d2ca17a180786b69acc140d282b71a49"
    }
   }
  }
 },
 "nbformat": 4,
 "nbformat_minor": 2,
 "cells": [
  {
   "source": [
    "# __SQL Review__\n",
    "<hr>"
   ],
   "cell_type": "markdown",
   "metadata": {}
  },
  {
   "source": [
    "#### - Create _connection_ Python with your SQL Database!\n",
    "#### - Use ``Sakila`` database!\n",
    "#### - If there isn't ``Sakila`` in your SQL Dataset, follow this guidance: https://dev.mysql.com/doc/sakila/en/sakila-installation.html\n",
    "\n",
    "___"
   ],
   "cell_type": "markdown",
   "metadata": {}
  },
  {
   "cell_type": "code",
   "execution_count": 1,
   "metadata": {},
   "outputs": [],
   "source": [
    "import mysql.connector"
   ]
  },
  {
   "cell_type": "code",
   "execution_count": 2,
   "metadata": {},
   "outputs": [],
   "source": [
    "import pandas\n",
    "import numpy"
   ]
  },
  {
   "source": [
    "## Create Connection"
   ],
   "cell_type": "markdown",
   "metadata": {}
  },
  {
   "cell_type": "code",
   "execution_count": 3,
   "metadata": {},
   "outputs": [],
   "source": [
    "mydb = mysql.connector.connect(\n",
    "    host= 'localhost',\n",
    "    user='root',\n",
    "    passwd='clayton0808',\n",
    "    database='sakila'\n",
    ")"
   ]
  },
  {
   "source": [
    "## ``Tampilkan seluruh tabel di Database Sakila (Full Table)``"
   ],
   "cell_type": "markdown",
   "metadata": {}
  },
  {
   "cell_type": "code",
   "execution_count": 8,
   "metadata": {},
   "outputs": [
    {
     "output_type": "execute_result",
     "data": {
      "text/plain": [
       "              Tables_in_sakila  Table_type\n",
       "0                        actor  BASE TABLE\n",
       "1                   actor_info        VIEW\n",
       "2                      address  BASE TABLE\n",
       "3                     category  BASE TABLE\n",
       "4                         city  BASE TABLE\n",
       "5                      country  BASE TABLE\n",
       "6                     customer  BASE TABLE\n",
       "7                customer_list        VIEW\n",
       "8                         film  BASE TABLE\n",
       "9                   film_actor  BASE TABLE\n",
       "10               film_category  BASE TABLE\n",
       "11                   film_list        VIEW\n",
       "12                   film_text  BASE TABLE\n",
       "13                   inventory  BASE TABLE\n",
       "14                    language  BASE TABLE\n",
       "15  nicer_but_slower_film_list        VIEW\n",
       "16                     payment  BASE TABLE\n",
       "17                      rental  BASE TABLE\n",
       "18      sales_by_film_category        VIEW\n",
       "19              sales_by_store        VIEW\n",
       "20                       staff  BASE TABLE\n",
       "21                  staff_list        VIEW\n",
       "22                       store  BASE TABLE"
      ],
      "text/html": "<div>\n<style scoped>\n    .dataframe tbody tr th:only-of-type {\n        vertical-align: middle;\n    }\n\n    .dataframe tbody tr th {\n        vertical-align: top;\n    }\n\n    .dataframe thead th {\n        text-align: right;\n    }\n</style>\n<table border=\"1\" class=\"dataframe\">\n  <thead>\n    <tr style=\"text-align: right;\">\n      <th></th>\n      <th>Tables_in_sakila</th>\n      <th>Table_type</th>\n    </tr>\n  </thead>\n  <tbody>\n    <tr>\n      <th>0</th>\n      <td>actor</td>\n      <td>BASE TABLE</td>\n    </tr>\n    <tr>\n      <th>1</th>\n      <td>actor_info</td>\n      <td>VIEW</td>\n    </tr>\n    <tr>\n      <th>2</th>\n      <td>address</td>\n      <td>BASE TABLE</td>\n    </tr>\n    <tr>\n      <th>3</th>\n      <td>category</td>\n      <td>BASE TABLE</td>\n    </tr>\n    <tr>\n      <th>4</th>\n      <td>city</td>\n      <td>BASE TABLE</td>\n    </tr>\n    <tr>\n      <th>5</th>\n      <td>country</td>\n      <td>BASE TABLE</td>\n    </tr>\n    <tr>\n      <th>6</th>\n      <td>customer</td>\n      <td>BASE TABLE</td>\n    </tr>\n    <tr>\n      <th>7</th>\n      <td>customer_list</td>\n      <td>VIEW</td>\n    </tr>\n    <tr>\n      <th>8</th>\n      <td>film</td>\n      <td>BASE TABLE</td>\n    </tr>\n    <tr>\n      <th>9</th>\n      <td>film_actor</td>\n      <td>BASE TABLE</td>\n    </tr>\n    <tr>\n      <th>10</th>\n      <td>film_category</td>\n      <td>BASE TABLE</td>\n    </tr>\n    <tr>\n      <th>11</th>\n      <td>film_list</td>\n      <td>VIEW</td>\n    </tr>\n    <tr>\n      <th>12</th>\n      <td>film_text</td>\n      <td>BASE TABLE</td>\n    </tr>\n    <tr>\n      <th>13</th>\n      <td>inventory</td>\n      <td>BASE TABLE</td>\n    </tr>\n    <tr>\n      <th>14</th>\n      <td>language</td>\n      <td>BASE TABLE</td>\n    </tr>\n    <tr>\n      <th>15</th>\n      <td>nicer_but_slower_film_list</td>\n      <td>VIEW</td>\n    </tr>\n    <tr>\n      <th>16</th>\n      <td>payment</td>\n      <td>BASE TABLE</td>\n    </tr>\n    <tr>\n      <th>17</th>\n      <td>rental</td>\n      <td>BASE TABLE</td>\n    </tr>\n    <tr>\n      <th>18</th>\n      <td>sales_by_film_category</td>\n      <td>VIEW</td>\n    </tr>\n    <tr>\n      <th>19</th>\n      <td>sales_by_store</td>\n      <td>VIEW</td>\n    </tr>\n    <tr>\n      <th>20</th>\n      <td>staff</td>\n      <td>BASE TABLE</td>\n    </tr>\n    <tr>\n      <th>21</th>\n      <td>staff_list</td>\n      <td>VIEW</td>\n    </tr>\n    <tr>\n      <th>22</th>\n      <td>store</td>\n      <td>BASE TABLE</td>\n    </tr>\n  </tbody>\n</table>\n</div>"
     },
     "metadata": {},
     "execution_count": 8
    }
   ],
   "source": [
    "mycursor= mydb.cursor()\n",
    "mycursor.execute('''\n",
    "show full tables;\n",
    "''')\n",
    "myresult= mycursor.fetchall()\n",
    "# myresult\n",
    "columns= mycursor.column_names\n",
    "tables= pandas.DataFrame(myresult, columns=columns)\n",
    "tables"
   ]
  },
  {
   "cell_type": "code",
   "execution_count": 9,
   "metadata": {},
   "outputs": [
    {
     "output_type": "execute_result",
     "data": {
      "text/plain": [
       "   film_id             title  \\\n",
       "0        1  ACADEMY DINOSAUR   \n",
       "\n",
       "                                         description  release_year  \\\n",
       "0  A Epic Drama of a Feminist And a Mad Scientist...          2006   \n",
       "\n",
       "   language_id original_language_id  rental_duration rental_rate  length  \\\n",
       "0            1                 None                6        0.99      86   \n",
       "\n",
       "  replacement_cost rating                     special_features  \\\n",
       "0            20.99     PG  {Behind the Scenes, Deleted Scenes}   \n",
       "\n",
       "          last_update  \n",
       "0 2006-02-15 05:03:42  "
      ],
      "text/html": "<div>\n<style scoped>\n    .dataframe tbody tr th:only-of-type {\n        vertical-align: middle;\n    }\n\n    .dataframe tbody tr th {\n        vertical-align: top;\n    }\n\n    .dataframe thead th {\n        text-align: right;\n    }\n</style>\n<table border=\"1\" class=\"dataframe\">\n  <thead>\n    <tr style=\"text-align: right;\">\n      <th></th>\n      <th>film_id</th>\n      <th>title</th>\n      <th>description</th>\n      <th>release_year</th>\n      <th>language_id</th>\n      <th>original_language_id</th>\n      <th>rental_duration</th>\n      <th>rental_rate</th>\n      <th>length</th>\n      <th>replacement_cost</th>\n      <th>rating</th>\n      <th>special_features</th>\n      <th>last_update</th>\n    </tr>\n  </thead>\n  <tbody>\n    <tr>\n      <th>0</th>\n      <td>1</td>\n      <td>ACADEMY DINOSAUR</td>\n      <td>A Epic Drama of a Feminist And a Mad Scientist...</td>\n      <td>2006</td>\n      <td>1</td>\n      <td>None</td>\n      <td>6</td>\n      <td>0.99</td>\n      <td>86</td>\n      <td>20.99</td>\n      <td>PG</td>\n      <td>{Behind the Scenes, Deleted Scenes}</td>\n      <td>2006-02-15 05:03:42</td>\n    </tr>\n  </tbody>\n</table>\n</div>"
     },
     "metadata": {},
     "execution_count": 9
    }
   ],
   "source": [
    "mycursor= mydb.cursor()\n",
    "mycursor.execute('''\n",
    "    select * from film \n",
    "    limit 1\n",
    "''')\n",
    "myresult= mycursor.fetchall()\n",
    "# myresult\n",
    "columns= mycursor.column_names\n",
    "tables= pandas.DataFrame(myresult, columns=columns)\n",
    "tables"
   ]
  },
  {
   "cell_type": "code",
   "execution_count": 10,
   "metadata": {},
   "outputs": [
    {
     "output_type": "execute_result",
     "data": {
      "text/plain": [
       "   category_id    name         last_update\n",
       "0            1  Action 2006-02-15 04:46:27"
      ],
      "text/html": "<div>\n<style scoped>\n    .dataframe tbody tr th:only-of-type {\n        vertical-align: middle;\n    }\n\n    .dataframe tbody tr th {\n        vertical-align: top;\n    }\n\n    .dataframe thead th {\n        text-align: right;\n    }\n</style>\n<table border=\"1\" class=\"dataframe\">\n  <thead>\n    <tr style=\"text-align: right;\">\n      <th></th>\n      <th>category_id</th>\n      <th>name</th>\n      <th>last_update</th>\n    </tr>\n  </thead>\n  <tbody>\n    <tr>\n      <th>0</th>\n      <td>1</td>\n      <td>Action</td>\n      <td>2006-02-15 04:46:27</td>\n    </tr>\n  </tbody>\n</table>\n</div>"
     },
     "metadata": {},
     "execution_count": 10
    }
   ],
   "source": [
    "mycursor= mydb.cursor()\n",
    "mycursor.execute('''\n",
    "    select * from category \n",
    "    limit 1\n",
    "''')\n",
    "myresult= mycursor.fetchall()\n",
    "# myresult\n",
    "columns= mycursor.column_names\n",
    "tables= pandas.DataFrame(myresult, columns=columns)\n",
    "tables"
   ]
  },
  {
   "cell_type": "code",
   "execution_count": 11,
   "metadata": {},
   "outputs": [
    {
     "output_type": "execute_result",
     "data": {
      "text/plain": [
       "   film_id  category_id         last_update\n",
       "0        1            6 2006-02-15 05:07:09"
      ],
      "text/html": "<div>\n<style scoped>\n    .dataframe tbody tr th:only-of-type {\n        vertical-align: middle;\n    }\n\n    .dataframe tbody tr th {\n        vertical-align: top;\n    }\n\n    .dataframe thead th {\n        text-align: right;\n    }\n</style>\n<table border=\"1\" class=\"dataframe\">\n  <thead>\n    <tr style=\"text-align: right;\">\n      <th></th>\n      <th>film_id</th>\n      <th>category_id</th>\n      <th>last_update</th>\n    </tr>\n  </thead>\n  <tbody>\n    <tr>\n      <th>0</th>\n      <td>1</td>\n      <td>6</td>\n      <td>2006-02-15 05:07:09</td>\n    </tr>\n  </tbody>\n</table>\n</div>"
     },
     "metadata": {},
     "execution_count": 11
    }
   ],
   "source": [
    "mycursor= mydb.cursor()\n",
    "mycursor.execute('''\n",
    "    select * from film_category\n",
    "    limit 1\n",
    "''')\n",
    "myresult= mycursor.fetchall()\n",
    "# myresult\n",
    "columns= mycursor.column_names\n",
    "tables= pandas.DataFrame(myresult, columns=columns)\n",
    "tables"
   ]
  },
  {
   "source": [
    "<hr>\n",
    "\n",
    "## __Soal__\n",
    "\n",
    "### 1. \n"
   ],
   "cell_type": "markdown",
   "metadata": {}
  },
  {
   "cell_type": "code",
   "execution_count": 23,
   "metadata": {},
   "outputs": [
    {
     "output_type": "execute_result",
     "data": {
      "text/plain": [
       "              title Category  length\n",
       "0   DOWNHILL ENOUGH   Comedy      47\n",
       "1  PARADISE SABRINA   Comedy      48\n",
       "2    HEAVEN FREEDOM   Comedy      48\n",
       "3  HURRICANE AFFAIR   Comedy      49\n",
       "4        LION UNCUT   Comedy      50\n",
       "5         ZORRO ARK   Comedy      50\n",
       "6       CLOSER BANG   Comedy      58\n",
       "7   AIRPLANE SIERRA   Comedy      62\n",
       "8   LONELY ELEPHANT   Comedy      67\n",
       "9      DOOM DANCING   Comedy      68"
      ],
      "text/html": "<div>\n<style scoped>\n    .dataframe tbody tr th:only-of-type {\n        vertical-align: middle;\n    }\n\n    .dataframe tbody tr th {\n        vertical-align: top;\n    }\n\n    .dataframe thead th {\n        text-align: right;\n    }\n</style>\n<table border=\"1\" class=\"dataframe\">\n  <thead>\n    <tr style=\"text-align: right;\">\n      <th></th>\n      <th>title</th>\n      <th>Category</th>\n      <th>length</th>\n    </tr>\n  </thead>\n  <tbody>\n    <tr>\n      <th>0</th>\n      <td>DOWNHILL ENOUGH</td>\n      <td>Comedy</td>\n      <td>47</td>\n    </tr>\n    <tr>\n      <th>1</th>\n      <td>PARADISE SABRINA</td>\n      <td>Comedy</td>\n      <td>48</td>\n    </tr>\n    <tr>\n      <th>2</th>\n      <td>HEAVEN FREEDOM</td>\n      <td>Comedy</td>\n      <td>48</td>\n    </tr>\n    <tr>\n      <th>3</th>\n      <td>HURRICANE AFFAIR</td>\n      <td>Comedy</td>\n      <td>49</td>\n    </tr>\n    <tr>\n      <th>4</th>\n      <td>LION UNCUT</td>\n      <td>Comedy</td>\n      <td>50</td>\n    </tr>\n    <tr>\n      <th>5</th>\n      <td>ZORRO ARK</td>\n      <td>Comedy</td>\n      <td>50</td>\n    </tr>\n    <tr>\n      <th>6</th>\n      <td>CLOSER BANG</td>\n      <td>Comedy</td>\n      <td>58</td>\n    </tr>\n    <tr>\n      <th>7</th>\n      <td>AIRPLANE SIERRA</td>\n      <td>Comedy</td>\n      <td>62</td>\n    </tr>\n    <tr>\n      <th>8</th>\n      <td>LONELY ELEPHANT</td>\n      <td>Comedy</td>\n      <td>67</td>\n    </tr>\n    <tr>\n      <th>9</th>\n      <td>DOOM DANCING</td>\n      <td>Comedy</td>\n      <td>68</td>\n    </tr>\n  </tbody>\n</table>\n</div>"
     },
     "metadata": {},
     "execution_count": 23
    }
   ],
   "source": [
    "mycursor= mydb.cursor()\n",
    "mycursor.execute('''\n",
    "select film.title as title, category.name as Category, film.length as length \n",
    "from film join film_category using (film_id) join category using (category_id)\n",
    "where Category.name='Comedy'\n",
    "order by length \n",
    "limit 10\n",
    " \n",
    "''')\n",
    "myresult= mycursor.fetchall()\n",
    "# myresult\n",
    "columns= mycursor.column_names\n",
    "tables= pandas.DataFrame(myresult, columns=columns)\n",
    "tables"
   ]
  },
  {
   "source": [
    "### 2. \n"
   ],
   "cell_type": "markdown",
   "metadata": {}
  },
  {
   "cell_type": "code",
   "execution_count": 41,
   "metadata": {},
   "outputs": [
    {
     "output_type": "execute_result",
     "data": {
      "text/plain": [
       "       kategori  JumlahMovie rataHargaSewa\n",
       "0        Sports           74      3.125135\n",
       "1       Foreign           73      3.099589\n",
       "2        Family           69      2.758116\n",
       "3   Documentary           68      2.666471\n",
       "4     Animation           66      2.808182\n",
       "5        Action           64      2.646250\n",
       "6           New           63      3.116984\n",
       "7         Drama           62      3.022258\n",
       "8         Games           61      3.252295\n",
       "9        Sci-Fi           61      3.219508\n",
       "10     Children           60      2.890000\n",
       "11       Comedy           58      3.162414\n",
       "12     Classics           57      2.744386\n",
       "13       Travel           57      3.235614\n",
       "14       Horror           56      3.025714\n",
       "15        Music           51      2.950784"
      ],
      "text/html": "<div>\n<style scoped>\n    .dataframe tbody tr th:only-of-type {\n        vertical-align: middle;\n    }\n\n    .dataframe tbody tr th {\n        vertical-align: top;\n    }\n\n    .dataframe thead th {\n        text-align: right;\n    }\n</style>\n<table border=\"1\" class=\"dataframe\">\n  <thead>\n    <tr style=\"text-align: right;\">\n      <th></th>\n      <th>kategori</th>\n      <th>JumlahMovie</th>\n      <th>rataHargaSewa</th>\n    </tr>\n  </thead>\n  <tbody>\n    <tr>\n      <th>0</th>\n      <td>Sports</td>\n      <td>74</td>\n      <td>3.125135</td>\n    </tr>\n    <tr>\n      <th>1</th>\n      <td>Foreign</td>\n      <td>73</td>\n      <td>3.099589</td>\n    </tr>\n    <tr>\n      <th>2</th>\n      <td>Family</td>\n      <td>69</td>\n      <td>2.758116</td>\n    </tr>\n    <tr>\n      <th>3</th>\n      <td>Documentary</td>\n      <td>68</td>\n      <td>2.666471</td>\n    </tr>\n    <tr>\n      <th>4</th>\n      <td>Animation</td>\n      <td>66</td>\n      <td>2.808182</td>\n    </tr>\n    <tr>\n      <th>5</th>\n      <td>Action</td>\n      <td>64</td>\n      <td>2.646250</td>\n    </tr>\n    <tr>\n      <th>6</th>\n      <td>New</td>\n      <td>63</td>\n      <td>3.116984</td>\n    </tr>\n    <tr>\n      <th>7</th>\n      <td>Drama</td>\n      <td>62</td>\n      <td>3.022258</td>\n    </tr>\n    <tr>\n      <th>8</th>\n      <td>Games</td>\n      <td>61</td>\n      <td>3.252295</td>\n    </tr>\n    <tr>\n      <th>9</th>\n      <td>Sci-Fi</td>\n      <td>61</td>\n      <td>3.219508</td>\n    </tr>\n    <tr>\n      <th>10</th>\n      <td>Children</td>\n      <td>60</td>\n      <td>2.890000</td>\n    </tr>\n    <tr>\n      <th>11</th>\n      <td>Comedy</td>\n      <td>58</td>\n      <td>3.162414</td>\n    </tr>\n    <tr>\n      <th>12</th>\n      <td>Classics</td>\n      <td>57</td>\n      <td>2.744386</td>\n    </tr>\n    <tr>\n      <th>13</th>\n      <td>Travel</td>\n      <td>57</td>\n      <td>3.235614</td>\n    </tr>\n    <tr>\n      <th>14</th>\n      <td>Horror</td>\n      <td>56</td>\n      <td>3.025714</td>\n    </tr>\n    <tr>\n      <th>15</th>\n      <td>Music</td>\n      <td>51</td>\n      <td>2.950784</td>\n    </tr>\n  </tbody>\n</table>\n</div>"
     },
     "metadata": {},
     "execution_count": 41
    }
   ],
   "source": [
    "mycursor= mydb.cursor()\n",
    "mycursor.execute('''\n",
    "select category.name as kategori, count(film.title) as JumlahMovie, avg(film.rental_rate) as rataHargaSewa\n",
    "from film \n",
    "inner join film_category\n",
    "on film.film_id=film_category.film_id\n",
    "inner join category\n",
    "on film_category.category_id=category.category_id\n",
    "group by kategori\n",
    "order by JumlahMOVIE desc\n",
    " \n",
    "''')\n",
    "myresult= mycursor.fetchall()\n",
    "# myresult\n",
    "columns= mycursor.column_names\n",
    "tables= pandas.DataFrame(myresult, columns=columns)\n",
    "tables"
   ]
  },
  {
   "source": [
    "### 3. "
   ],
   "cell_type": "markdown",
   "metadata": {}
  },
  {
   "cell_type": "code",
   "execution_count": 35,
   "metadata": {},
   "outputs": [
    {
     "output_type": "execute_result",
     "data": {
      "text/plain": [
       "   actor_id first_name last_name         last_update\n",
       "0         1   PENELOPE   GUINESS 2006-02-15 04:34:33"
      ],
      "text/html": "<div>\n<style scoped>\n    .dataframe tbody tr th:only-of-type {\n        vertical-align: middle;\n    }\n\n    .dataframe tbody tr th {\n        vertical-align: top;\n    }\n\n    .dataframe thead th {\n        text-align: right;\n    }\n</style>\n<table border=\"1\" class=\"dataframe\">\n  <thead>\n    <tr style=\"text-align: right;\">\n      <th></th>\n      <th>actor_id</th>\n      <th>first_name</th>\n      <th>last_name</th>\n      <th>last_update</th>\n    </tr>\n  </thead>\n  <tbody>\n    <tr>\n      <th>0</th>\n      <td>1</td>\n      <td>PENELOPE</td>\n      <td>GUINESS</td>\n      <td>2006-02-15 04:34:33</td>\n    </tr>\n  </tbody>\n</table>\n</div>"
     },
     "metadata": {},
     "execution_count": 35
    }
   ],
   "source": [
    "mycursor= mydb.cursor()\n",
    "mycursor.execute('''\n",
    "select * from actor\n",
    "limit 1\n",
    " \n",
    "''')\n",
    "myresult= mycursor.fetchall()\n",
    "# myresult\n",
    "columns= mycursor.column_names\n",
    "tables= pandas.DataFrame(myresult, columns=columns)\n",
    "tables"
   ]
  },
  {
   "cell_type": "code",
   "execution_count": 43,
   "metadata": {},
   "outputs": [
    {
     "output_type": "execute_result",
     "data": {
      "text/plain": [
       "   actor_id  film_id         last_update\n",
       "0         1        1 2006-02-15 05:05:03"
      ],
      "text/html": "<div>\n<style scoped>\n    .dataframe tbody tr th:only-of-type {\n        vertical-align: middle;\n    }\n\n    .dataframe tbody tr th {\n        vertical-align: top;\n    }\n\n    .dataframe thead th {\n        text-align: right;\n    }\n</style>\n<table border=\"1\" class=\"dataframe\">\n  <thead>\n    <tr style=\"text-align: right;\">\n      <th></th>\n      <th>actor_id</th>\n      <th>film_id</th>\n      <th>last_update</th>\n    </tr>\n  </thead>\n  <tbody>\n    <tr>\n      <th>0</th>\n      <td>1</td>\n      <td>1</td>\n      <td>2006-02-15 05:05:03</td>\n    </tr>\n  </tbody>\n</table>\n</div>"
     },
     "metadata": {},
     "execution_count": 43
    }
   ],
   "source": [
    "mycursor= mydb.cursor()\n",
    "mycursor.execute('''\n",
    "select * from film_actor\n",
    "limit 1\n",
    " \n",
    "''')\n",
    "myresult= mycursor.fetchall()\n",
    "# myresult\n",
    "columns= mycursor.column_names\n",
    "tables= pandas.DataFrame(myresult, columns=columns)\n",
    "tables"
   ]
  },
  {
   "cell_type": "code",
   "execution_count": 48,
   "metadata": {},
   "outputs": [
    {
     "output_type": "execute_result",
     "data": {
      "text/plain": [
       "   actor_id first_name  last_name  JumlahMovie\n",
       "0       107       GINA  DEGENERES           42\n",
       "1       102     WALTER       TORN           41\n",
       "2       198       MARY     KEITEL           40\n",
       "3       181    MATTHEW     CARREY           39\n",
       "4        23     SANDRA     KILMER           37\n",
       "5        81   SCARLETT      DAMON           36\n",
       "6        37        VAL     BOLGER           35\n",
       "7       158     VIVIEN   BASINGER           35\n",
       "8       106    GROUCHO      DUNST           35\n",
       "9        13        UMA       WOOD           35"
      ],
      "text/html": "<div>\n<style scoped>\n    .dataframe tbody tr th:only-of-type {\n        vertical-align: middle;\n    }\n\n    .dataframe tbody tr th {\n        vertical-align: top;\n    }\n\n    .dataframe thead th {\n        text-align: right;\n    }\n</style>\n<table border=\"1\" class=\"dataframe\">\n  <thead>\n    <tr style=\"text-align: right;\">\n      <th></th>\n      <th>actor_id</th>\n      <th>first_name</th>\n      <th>last_name</th>\n      <th>JumlahMovie</th>\n    </tr>\n  </thead>\n  <tbody>\n    <tr>\n      <th>0</th>\n      <td>107</td>\n      <td>GINA</td>\n      <td>DEGENERES</td>\n      <td>42</td>\n    </tr>\n    <tr>\n      <th>1</th>\n      <td>102</td>\n      <td>WALTER</td>\n      <td>TORN</td>\n      <td>41</td>\n    </tr>\n    <tr>\n      <th>2</th>\n      <td>198</td>\n      <td>MARY</td>\n      <td>KEITEL</td>\n      <td>40</td>\n    </tr>\n    <tr>\n      <th>3</th>\n      <td>181</td>\n      <td>MATTHEW</td>\n      <td>CARREY</td>\n      <td>39</td>\n    </tr>\n    <tr>\n      <th>4</th>\n      <td>23</td>\n      <td>SANDRA</td>\n      <td>KILMER</td>\n      <td>37</td>\n    </tr>\n    <tr>\n      <th>5</th>\n      <td>81</td>\n      <td>SCARLETT</td>\n      <td>DAMON</td>\n      <td>36</td>\n    </tr>\n    <tr>\n      <th>6</th>\n      <td>37</td>\n      <td>VAL</td>\n      <td>BOLGER</td>\n      <td>35</td>\n    </tr>\n    <tr>\n      <th>7</th>\n      <td>158</td>\n      <td>VIVIEN</td>\n      <td>BASINGER</td>\n      <td>35</td>\n    </tr>\n    <tr>\n      <th>8</th>\n      <td>106</td>\n      <td>GROUCHO</td>\n      <td>DUNST</td>\n      <td>35</td>\n    </tr>\n    <tr>\n      <th>9</th>\n      <td>13</td>\n      <td>UMA</td>\n      <td>WOOD</td>\n      <td>35</td>\n    </tr>\n  </tbody>\n</table>\n</div>"
     },
     "metadata": {},
     "execution_count": 48
    }
   ],
   "source": [
    "mycursor= mydb.cursor()\n",
    "mycursor.execute('''\n",
    "select actor.actor_id as actor_id, actor.first_name as first_name, actor.last_name as last_name, count(film.title) as JumlahMovie\n",
    "from actor \n",
    "inner join film_actor\n",
    "on film_actor.actor_id=actor.actor_id\n",
    "inner join film\n",
    "on film.film_id=film_actor.film_id\n",
    "group by actor_id\n",
    "order by JumlahMovie desc\n",
    "limit 10\n",
    " \n",
    "''')\n",
    "myresult= mycursor.fetchall()\n",
    "# myresult\n",
    "columns= mycursor.column_names\n",
    "tables= pandas.DataFrame(myresult, columns=columns)\n",
    "tables"
   ]
  },
  {
   "source": [
    "### 4. "
   ],
   "cell_type": "markdown",
   "metadata": {}
  },
  {
   "cell_type": "code",
   "execution_count": 68,
   "metadata": {},
   "outputs": [
    {
     "output_type": "error",
     "ename": "ProgrammingError",
     "evalue": "1066 (42000): Not unique table/alias: 'film'",
     "traceback": [
      "\u001b[0;31m---------------------------------------------------------------------------\u001b[0m",
      "\u001b[0;31mProgrammingError\u001b[0m                          Traceback (most recent call last)",
      "\u001b[0;32m<ipython-input-68-32cae1536793>\u001b[0m in \u001b[0;36m<module>\u001b[0;34m\u001b[0m\n\u001b[1;32m      1\u001b[0m \u001b[0mmycursor\u001b[0m\u001b[0;34m=\u001b[0m \u001b[0mmydb\u001b[0m\u001b[0;34m.\u001b[0m\u001b[0mcursor\u001b[0m\u001b[0;34m(\u001b[0m\u001b[0;34m)\u001b[0m\u001b[0;34m\u001b[0m\u001b[0;34m\u001b[0m\u001b[0m\n\u001b[0;32m----> 2\u001b[0;31m mycursor.execute('''\n\u001b[0m\u001b[1;32m      3\u001b[0m \u001b[0mselect\u001b[0m \u001b[0mcategory\u001b[0m\u001b[0;34m.\u001b[0m\u001b[0mname\u001b[0m \u001b[0;32mas\u001b[0m \u001b[0mcategory\u001b[0m\u001b[0;34m,\u001b[0m \u001b[0mcount\u001b[0m\u001b[0;34m(\u001b[0m\u001b[0mfilm\u001b[0m\u001b[0;34m.\u001b[0m\u001b[0mtitle\u001b[0m\u001b[0;34m)\u001b[0m \u001b[0;32mas\u001b[0m \u001b[0mJumlahMovie\u001b[0m\u001b[0;34m\u001b[0m\u001b[0;34m\u001b[0m\u001b[0m\n\u001b[1;32m      4\u001b[0m \u001b[0;32mfrom\u001b[0m \u001b[0mfilm\u001b[0m\u001b[0;34m\u001b[0m\u001b[0;34m\u001b[0m\u001b[0m\n\u001b[1;32m      5\u001b[0m \u001b[0minner\u001b[0m \u001b[0mjoin\u001b[0m \u001b[0mfilm_category\u001b[0m\u001b[0;34m\u001b[0m\u001b[0;34m\u001b[0m\u001b[0m\n",
      "\u001b[0;32m/Library/Frameworks/Python.framework/Versions/3.9/lib/python3.9/site-packages/mysql/connector/cursor.py\u001b[0m in \u001b[0;36mexecute\u001b[0;34m(self, operation, params, multi)\u001b[0m\n\u001b[1;32m    567\u001b[0m \u001b[0;34m\u001b[0m\u001b[0m\n\u001b[1;32m    568\u001b[0m         \u001b[0;32mtry\u001b[0m\u001b[0;34m:\u001b[0m\u001b[0;34m\u001b[0m\u001b[0;34m\u001b[0m\u001b[0m\n\u001b[0;32m--> 569\u001b[0;31m             \u001b[0mself\u001b[0m\u001b[0;34m.\u001b[0m\u001b[0m_handle_result\u001b[0m\u001b[0;34m(\u001b[0m\u001b[0mself\u001b[0m\u001b[0;34m.\u001b[0m\u001b[0m_connection\u001b[0m\u001b[0;34m.\u001b[0m\u001b[0mcmd_query\u001b[0m\u001b[0;34m(\u001b[0m\u001b[0mstmt\u001b[0m\u001b[0;34m)\u001b[0m\u001b[0;34m)\u001b[0m\u001b[0;34m\u001b[0m\u001b[0;34m\u001b[0m\u001b[0m\n\u001b[0m\u001b[1;32m    570\u001b[0m         \u001b[0;32mexcept\u001b[0m \u001b[0merrors\u001b[0m\u001b[0;34m.\u001b[0m\u001b[0mInterfaceError\u001b[0m\u001b[0;34m:\u001b[0m\u001b[0;34m\u001b[0m\u001b[0;34m\u001b[0m\u001b[0m\n\u001b[1;32m    571\u001b[0m             \u001b[0;32mif\u001b[0m \u001b[0mself\u001b[0m\u001b[0;34m.\u001b[0m\u001b[0m_connection\u001b[0m\u001b[0;34m.\u001b[0m\u001b[0m_have_next_result\u001b[0m\u001b[0;34m:\u001b[0m  \u001b[0;31m# pylint: disable=W0212\u001b[0m\u001b[0;34m\u001b[0m\u001b[0;34m\u001b[0m\u001b[0m\n",
      "\u001b[0;32m/Library/Frameworks/Python.framework/Versions/3.9/lib/python3.9/site-packages/mysql/connector/connection.py\u001b[0m in \u001b[0;36mcmd_query\u001b[0;34m(self, query, raw, buffered, raw_as_string)\u001b[0m\n\u001b[1;32m    649\u001b[0m             \u001b[0mquery\u001b[0m \u001b[0;34m=\u001b[0m \u001b[0mquery\u001b[0m\u001b[0;34m.\u001b[0m\u001b[0mencode\u001b[0m\u001b[0;34m(\u001b[0m\u001b[0;34m'utf-8'\u001b[0m\u001b[0;34m)\u001b[0m\u001b[0;34m\u001b[0m\u001b[0;34m\u001b[0m\u001b[0m\n\u001b[1;32m    650\u001b[0m         \u001b[0;32mtry\u001b[0m\u001b[0;34m:\u001b[0m\u001b[0;34m\u001b[0m\u001b[0;34m\u001b[0m\u001b[0m\n\u001b[0;32m--> 651\u001b[0;31m             \u001b[0mresult\u001b[0m \u001b[0;34m=\u001b[0m \u001b[0mself\u001b[0m\u001b[0;34m.\u001b[0m\u001b[0m_handle_result\u001b[0m\u001b[0;34m(\u001b[0m\u001b[0mself\u001b[0m\u001b[0;34m.\u001b[0m\u001b[0m_send_cmd\u001b[0m\u001b[0;34m(\u001b[0m\u001b[0mServerCmd\u001b[0m\u001b[0;34m.\u001b[0m\u001b[0mQUERY\u001b[0m\u001b[0;34m,\u001b[0m \u001b[0mquery\u001b[0m\u001b[0;34m)\u001b[0m\u001b[0;34m)\u001b[0m\u001b[0;34m\u001b[0m\u001b[0;34m\u001b[0m\u001b[0m\n\u001b[0m\u001b[1;32m    652\u001b[0m         \u001b[0;32mexcept\u001b[0m \u001b[0merrors\u001b[0m\u001b[0;34m.\u001b[0m\u001b[0mProgrammingError\u001b[0m \u001b[0;32mas\u001b[0m \u001b[0merr\u001b[0m\u001b[0;34m:\u001b[0m\u001b[0;34m\u001b[0m\u001b[0;34m\u001b[0m\u001b[0m\n\u001b[1;32m    653\u001b[0m             \u001b[0;32mif\u001b[0m \u001b[0merr\u001b[0m\u001b[0;34m.\u001b[0m\u001b[0merrno\u001b[0m \u001b[0;34m==\u001b[0m \u001b[0;36m3948\u001b[0m \u001b[0;32mand\u001b[0m\u001b[0;31m \u001b[0m\u001b[0;31m\\\u001b[0m\u001b[0;34m\u001b[0m\u001b[0;34m\u001b[0m\u001b[0m\n",
      "\u001b[0;32m/Library/Frameworks/Python.framework/Versions/3.9/lib/python3.9/site-packages/mysql/connector/connection.py\u001b[0m in \u001b[0;36m_handle_result\u001b[0;34m(self, packet)\u001b[0m\n\u001b[1;32m    536\u001b[0m             \u001b[0;32mreturn\u001b[0m \u001b[0mself\u001b[0m\u001b[0;34m.\u001b[0m\u001b[0m_handle_eof\u001b[0m\u001b[0;34m(\u001b[0m\u001b[0mpacket\u001b[0m\u001b[0;34m)\u001b[0m\u001b[0;34m\u001b[0m\u001b[0;34m\u001b[0m\u001b[0m\n\u001b[1;32m    537\u001b[0m         \u001b[0;32melif\u001b[0m \u001b[0mpacket\u001b[0m\u001b[0;34m[\u001b[0m\u001b[0;36m4\u001b[0m\u001b[0;34m]\u001b[0m \u001b[0;34m==\u001b[0m \u001b[0;36m255\u001b[0m\u001b[0;34m:\u001b[0m\u001b[0;34m\u001b[0m\u001b[0;34m\u001b[0m\u001b[0m\n\u001b[0;32m--> 538\u001b[0;31m             \u001b[0;32mraise\u001b[0m \u001b[0merrors\u001b[0m\u001b[0;34m.\u001b[0m\u001b[0mget_exception\u001b[0m\u001b[0;34m(\u001b[0m\u001b[0mpacket\u001b[0m\u001b[0;34m)\u001b[0m\u001b[0;34m\u001b[0m\u001b[0;34m\u001b[0m\u001b[0m\n\u001b[0m\u001b[1;32m    539\u001b[0m \u001b[0;34m\u001b[0m\u001b[0m\n\u001b[1;32m    540\u001b[0m         \u001b[0;31m# We have a text result set\u001b[0m\u001b[0;34m\u001b[0m\u001b[0;34m\u001b[0m\u001b[0;34m\u001b[0m\u001b[0m\n",
      "\u001b[0;31mProgrammingError\u001b[0m: 1066 (42000): Not unique table/alias: 'film'"
     ]
    }
   ],
   "source": [
    "mycursor= mydb.cursor()\n",
    "mycursor.execute('''\n",
    "select category.name as category, count(film.title) as JumlahMovie\n",
    "from film \n",
    "inner join film_category\n",
    "on film.film_id=film_category.film_id\n",
    "inner join category\n",
    "on film_category.category_id=category.category_id\n",
    "inner join actor\n",
    "inner join film_actor\n",
    "on film_actor.actor_id=actor.actor_id\n",
    "inner join film\n",
    "on film.film_id=film_actor.film_id\n",
    "group by category\n",
    "having actor.first_name='Gina'\n",
    " \n",
    "''')\n",
    "myresult= mycursor.fetchall()\n",
    "# myresult\n",
    "columns= mycursor.column_names\n",
    "tables= pandas.DataFrame(myresult, columns=columns)\n",
    "tables"
   ]
  },
  {
   "cell_type": "code",
   "execution_count": 67,
   "metadata": {},
   "outputs": [
    {
     "output_type": "error",
     "ename": "ProgrammingError",
     "evalue": "1064 (42000): You have an error in your SQL syntax; check the manual that corresponds to your MySQL server version for the right syntax to use near 'inner join film_actor\non film_actor.actor_id=actor.actor_id\ninner join film\non f' at line 9",
     "traceback": [
      "\u001b[0;31m---------------------------------------------------------------------------\u001b[0m",
      "\u001b[0;31mProgrammingError\u001b[0m                          Traceback (most recent call last)",
      "\u001b[0;32m<ipython-input-67-b82708c205b0>\u001b[0m in \u001b[0;36m<module>\u001b[0;34m\u001b[0m\n\u001b[1;32m      1\u001b[0m \u001b[0mmycursor\u001b[0m\u001b[0;34m=\u001b[0m \u001b[0mmydb\u001b[0m\u001b[0;34m.\u001b[0m\u001b[0mcursor\u001b[0m\u001b[0;34m(\u001b[0m\u001b[0;34m)\u001b[0m\u001b[0;34m\u001b[0m\u001b[0;34m\u001b[0m\u001b[0m\n\u001b[0;32m----> 2\u001b[0;31m mycursor.execute('''\n\u001b[0m\u001b[1;32m      3\u001b[0m \u001b[0mselect\u001b[0m \u001b[0mcategory\u001b[0m\u001b[0;34m.\u001b[0m\u001b[0mname\u001b[0m \u001b[0;32mas\u001b[0m \u001b[0mcategory\u001b[0m\u001b[0;34m,\u001b[0m \u001b[0mcount\u001b[0m\u001b[0;34m(\u001b[0m\u001b[0mfilm\u001b[0m\u001b[0;34m.\u001b[0m\u001b[0mtitle\u001b[0m\u001b[0;34m)\u001b[0m \u001b[0;32mas\u001b[0m \u001b[0mJumlahMovie\u001b[0m\u001b[0;34m\u001b[0m\u001b[0;34m\u001b[0m\u001b[0m\n\u001b[1;32m      4\u001b[0m \u001b[0;32mfrom\u001b[0m \u001b[0mfilm\u001b[0m\u001b[0;34m\u001b[0m\u001b[0;34m\u001b[0m\u001b[0m\n\u001b[1;32m      5\u001b[0m \u001b[0minner\u001b[0m \u001b[0mjoin\u001b[0m \u001b[0mfilm_category\u001b[0m\u001b[0;34m\u001b[0m\u001b[0;34m\u001b[0m\u001b[0m\n",
      "\u001b[0;32m/Library/Frameworks/Python.framework/Versions/3.9/lib/python3.9/site-packages/mysql/connector/cursor.py\u001b[0m in \u001b[0;36mexecute\u001b[0;34m(self, operation, params, multi)\u001b[0m\n\u001b[1;32m    567\u001b[0m \u001b[0;34m\u001b[0m\u001b[0m\n\u001b[1;32m    568\u001b[0m         \u001b[0;32mtry\u001b[0m\u001b[0;34m:\u001b[0m\u001b[0;34m\u001b[0m\u001b[0;34m\u001b[0m\u001b[0m\n\u001b[0;32m--> 569\u001b[0;31m             \u001b[0mself\u001b[0m\u001b[0;34m.\u001b[0m\u001b[0m_handle_result\u001b[0m\u001b[0;34m(\u001b[0m\u001b[0mself\u001b[0m\u001b[0;34m.\u001b[0m\u001b[0m_connection\u001b[0m\u001b[0;34m.\u001b[0m\u001b[0mcmd_query\u001b[0m\u001b[0;34m(\u001b[0m\u001b[0mstmt\u001b[0m\u001b[0;34m)\u001b[0m\u001b[0;34m)\u001b[0m\u001b[0;34m\u001b[0m\u001b[0;34m\u001b[0m\u001b[0m\n\u001b[0m\u001b[1;32m    570\u001b[0m         \u001b[0;32mexcept\u001b[0m \u001b[0merrors\u001b[0m\u001b[0;34m.\u001b[0m\u001b[0mInterfaceError\u001b[0m\u001b[0;34m:\u001b[0m\u001b[0;34m\u001b[0m\u001b[0;34m\u001b[0m\u001b[0m\n\u001b[1;32m    571\u001b[0m             \u001b[0;32mif\u001b[0m \u001b[0mself\u001b[0m\u001b[0;34m.\u001b[0m\u001b[0m_connection\u001b[0m\u001b[0;34m.\u001b[0m\u001b[0m_have_next_result\u001b[0m\u001b[0;34m:\u001b[0m  \u001b[0;31m# pylint: disable=W0212\u001b[0m\u001b[0;34m\u001b[0m\u001b[0;34m\u001b[0m\u001b[0m\n",
      "\u001b[0;32m/Library/Frameworks/Python.framework/Versions/3.9/lib/python3.9/site-packages/mysql/connector/connection.py\u001b[0m in \u001b[0;36mcmd_query\u001b[0;34m(self, query, raw, buffered, raw_as_string)\u001b[0m\n\u001b[1;32m    649\u001b[0m             \u001b[0mquery\u001b[0m \u001b[0;34m=\u001b[0m \u001b[0mquery\u001b[0m\u001b[0;34m.\u001b[0m\u001b[0mencode\u001b[0m\u001b[0;34m(\u001b[0m\u001b[0;34m'utf-8'\u001b[0m\u001b[0;34m)\u001b[0m\u001b[0;34m\u001b[0m\u001b[0;34m\u001b[0m\u001b[0m\n\u001b[1;32m    650\u001b[0m         \u001b[0;32mtry\u001b[0m\u001b[0;34m:\u001b[0m\u001b[0;34m\u001b[0m\u001b[0;34m\u001b[0m\u001b[0m\n\u001b[0;32m--> 651\u001b[0;31m             \u001b[0mresult\u001b[0m \u001b[0;34m=\u001b[0m \u001b[0mself\u001b[0m\u001b[0;34m.\u001b[0m\u001b[0m_handle_result\u001b[0m\u001b[0;34m(\u001b[0m\u001b[0mself\u001b[0m\u001b[0;34m.\u001b[0m\u001b[0m_send_cmd\u001b[0m\u001b[0;34m(\u001b[0m\u001b[0mServerCmd\u001b[0m\u001b[0;34m.\u001b[0m\u001b[0mQUERY\u001b[0m\u001b[0;34m,\u001b[0m \u001b[0mquery\u001b[0m\u001b[0;34m)\u001b[0m\u001b[0;34m)\u001b[0m\u001b[0;34m\u001b[0m\u001b[0;34m\u001b[0m\u001b[0m\n\u001b[0m\u001b[1;32m    652\u001b[0m         \u001b[0;32mexcept\u001b[0m \u001b[0merrors\u001b[0m\u001b[0;34m.\u001b[0m\u001b[0mProgrammingError\u001b[0m \u001b[0;32mas\u001b[0m \u001b[0merr\u001b[0m\u001b[0;34m:\u001b[0m\u001b[0;34m\u001b[0m\u001b[0;34m\u001b[0m\u001b[0m\n\u001b[1;32m    653\u001b[0m             \u001b[0;32mif\u001b[0m \u001b[0merr\u001b[0m\u001b[0;34m.\u001b[0m\u001b[0merrno\u001b[0m \u001b[0;34m==\u001b[0m \u001b[0;36m3948\u001b[0m \u001b[0;32mand\u001b[0m\u001b[0;31m \u001b[0m\u001b[0;31m\\\u001b[0m\u001b[0;34m\u001b[0m\u001b[0;34m\u001b[0m\u001b[0m\n",
      "\u001b[0;32m/Library/Frameworks/Python.framework/Versions/3.9/lib/python3.9/site-packages/mysql/connector/connection.py\u001b[0m in \u001b[0;36m_handle_result\u001b[0;34m(self, packet)\u001b[0m\n\u001b[1;32m    536\u001b[0m             \u001b[0;32mreturn\u001b[0m \u001b[0mself\u001b[0m\u001b[0;34m.\u001b[0m\u001b[0m_handle_eof\u001b[0m\u001b[0;34m(\u001b[0m\u001b[0mpacket\u001b[0m\u001b[0;34m)\u001b[0m\u001b[0;34m\u001b[0m\u001b[0;34m\u001b[0m\u001b[0m\n\u001b[1;32m    537\u001b[0m         \u001b[0;32melif\u001b[0m \u001b[0mpacket\u001b[0m\u001b[0;34m[\u001b[0m\u001b[0;36m4\u001b[0m\u001b[0;34m]\u001b[0m \u001b[0;34m==\u001b[0m \u001b[0;36m255\u001b[0m\u001b[0;34m:\u001b[0m\u001b[0;34m\u001b[0m\u001b[0;34m\u001b[0m\u001b[0m\n\u001b[0;32m--> 538\u001b[0;31m             \u001b[0;32mraise\u001b[0m \u001b[0merrors\u001b[0m\u001b[0;34m.\u001b[0m\u001b[0mget_exception\u001b[0m\u001b[0;34m(\u001b[0m\u001b[0mpacket\u001b[0m\u001b[0;34m)\u001b[0m\u001b[0;34m\u001b[0m\u001b[0;34m\u001b[0m\u001b[0m\n\u001b[0m\u001b[1;32m    539\u001b[0m \u001b[0;34m\u001b[0m\u001b[0m\n\u001b[1;32m    540\u001b[0m         \u001b[0;31m# We have a text result set\u001b[0m\u001b[0;34m\u001b[0m\u001b[0;34m\u001b[0m\u001b[0;34m\u001b[0m\u001b[0m\n",
      "\u001b[0;31mProgrammingError\u001b[0m: 1064 (42000): You have an error in your SQL syntax; check the manual that corresponds to your MySQL server version for the right syntax to use near 'inner join film_actor\non film_actor.actor_id=actor.actor_id\ninner join film\non f' at line 9"
     ]
    }
   ],
   "source": [
    "mycursor= mydb.cursor()\n",
    "mycursor.execute('''\n",
    "select category.name as category, count(film.title) as JumlahMovie\n",
    "from film \n",
    "inner join film_category\n",
    "on film.film_id=film_category.film_id\n",
    "inner join category\n",
    "on film_category.category_id=category.category_id\n",
    "group by category\n",
    "having actor.first_name=(select actor.actor_id as actor_id, actor.first_name as first_name, actor.last_name as last_name\n",
    "inner join film_actor\n",
    "on film_actor.actor_id=actor.actor_id\n",
    "inner join film\n",
    "on film.film_id=film_actor.film_id\n",
    "group by first_name\n",
    "having first_name='Gina'\n",
    "\n",
    " \n",
    "''')\n",
    "myresult= mycursor.fetchall()\n",
    "# myresult\n",
    "columns= mycursor.column_names\n",
    "tables= pandas.DataFrame(myresult, columns=columns)\n",
    "tables"
   ]
  },
  {
   "source": [
    "### 5."
   ],
   "cell_type": "markdown",
   "metadata": {}
  },
  {
   "cell_type": "code",
   "execution_count": null,
   "metadata": {},
   "outputs": [],
   "source": []
  }
 ]
}